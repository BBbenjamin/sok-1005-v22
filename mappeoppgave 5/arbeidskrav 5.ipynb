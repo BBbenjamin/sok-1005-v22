{
 "cells": [
  {
   "cell_type": "code",
   "execution_count": 1,
   "id": "416c35ae-029a-4423-887e-120ad8b80fc7",
   "metadata": {},
   "outputs": [
    {
     "data": {
      "text/plain": [
       "[     Rank        Country  2022 Population  2021 Population Growth Rate  \\\n",
       " 0       1          China       1448471400     1.444216e+09       0.29%   \n",
       " 1       2          India       1406631776     1.393409e+09       0.95%   \n",
       " 2       3  United States        334805269     3.329151e+08       0.57%   \n",
       " 3       4      Indonesia        279134505     2.763618e+08       1.00%   \n",
       " 4       5       Pakistan        229488994     2.251999e+08       1.90%   \n",
       " ..    ...            ...              ...              ...         ...   \n",
       " 204   205     San Marino            34085     3.401700e+04       0.20%   \n",
       " 205   206          Palau            18233     1.816900e+04       0.35%   \n",
       " 206   207         Tuvalu            12066     1.193100e+04       1.13%   \n",
       " 207   208          Nauru            10903     1.087600e+04       0.25%   \n",
       " 208   209   Vatican City              799     8.000000e+02      -0.12%   \n",
       " \n",
       "         Area Density (km²)  \n",
       " 0    9706961       149/km²  \n",
       " 1    3287590       428/km²  \n",
       " 2    9372610        36/km²  \n",
       " 3    1904569       147/km²  \n",
       " 4     881912       260/km²  \n",
       " ..       ...           ...  \n",
       " 204       61       559/km²  \n",
       " 205      459        40/km²  \n",
       " 206       26       464/km²  \n",
       " 207       21       519/km²  \n",
       " 208        1       799/km²  \n",
       " \n",
       " [209 rows x 7 columns]]"
      ]
     },
     "execution_count": 1,
     "metadata": {},
     "output_type": "execute_result"
    }
   ],
   "source": [
    "import pandas as pd\n",
    "import numpy as np\n",
    "url = 'https://worldpopulationreview.com/countries'\n",
    "df = pd.read_html(url, header = 0)\n",
    "df "
   ]
  },
  {
   "cell_type": "code",
   "execution_count": 2,
   "id": "825cecfb-19d5-40c1-b492-f5ca9be5ee1a",
   "metadata": {},
   "outputs": [
    {
     "data": {
      "text/plain": [
       "1"
      ]
     },
     "execution_count": 2,
     "metadata": {},
     "output_type": "execute_result"
    }
   ],
   "source": [
    "len (df)"
   ]
  },
  {
   "cell_type": "markdown",
   "id": "c0b6a8e7-eb0e-409c-b5b1-479b9e015215",
   "metadata": {},
   "source": [
    "ser på topp 7 land med størst populasjonsvekst"
   ]
  },
  {
   "cell_type": "code",
   "execution_count": 3,
   "id": "ae2b95ca-2ace-4ef4-b69d-05e1c536b149",
   "metadata": {},
   "outputs": [],
   "source": [
    "df2022 = df[0]"
   ]
  },
  {
   "cell_type": "code",
   "execution_count": 4,
   "id": "54595340-20e2-4c4d-84ad-d63b44535358",
   "metadata": {},
   "outputs": [
    {
     "data": {
      "text/plain": [
       "(209, 7)"
      ]
     },
     "execution_count": 4,
     "metadata": {},
     "output_type": "execute_result"
    }
   ],
   "source": [
    "df2022.shape"
   ]
  },
  {
   "cell_type": "code",
   "execution_count": 5,
   "id": "1c6cdbaa-3f45-496b-9ea8-697d49b30664",
   "metadata": {},
   "outputs": [
    {
     "data": {
      "text/html": [
       "<div>\n",
       "<style scoped>\n",
       "    .dataframe tbody tr th:only-of-type {\n",
       "        vertical-align: middle;\n",
       "    }\n",
       "\n",
       "    .dataframe tbody tr th {\n",
       "        vertical-align: top;\n",
       "    }\n",
       "\n",
       "    .dataframe thead th {\n",
       "        text-align: right;\n",
       "    }\n",
       "</style>\n",
       "<table border=\"1\" class=\"dataframe\">\n",
       "  <thead>\n",
       "    <tr style=\"text-align: right;\">\n",
       "      <th></th>\n",
       "      <th>Rank</th>\n",
       "      <th>Country</th>\n",
       "      <th>2022 Population</th>\n",
       "      <th>2021 Population</th>\n",
       "      <th>Growth Rate</th>\n",
       "      <th>Area</th>\n",
       "      <th>Density (km²)</th>\n",
       "    </tr>\n",
       "  </thead>\n",
       "  <tbody>\n",
       "    <tr>\n",
       "      <th>0</th>\n",
       "      <td>1</td>\n",
       "      <td>China</td>\n",
       "      <td>1448471400</td>\n",
       "      <td>1.444216e+09</td>\n",
       "      <td>0.29%</td>\n",
       "      <td>9706961</td>\n",
       "      <td>149/km²</td>\n",
       "    </tr>\n",
       "    <tr>\n",
       "      <th>1</th>\n",
       "      <td>2</td>\n",
       "      <td>India</td>\n",
       "      <td>1406631776</td>\n",
       "      <td>1.393409e+09</td>\n",
       "      <td>0.95%</td>\n",
       "      <td>3287590</td>\n",
       "      <td>428/km²</td>\n",
       "    </tr>\n",
       "    <tr>\n",
       "      <th>2</th>\n",
       "      <td>3</td>\n",
       "      <td>United States</td>\n",
       "      <td>334805269</td>\n",
       "      <td>3.329151e+08</td>\n",
       "      <td>0.57%</td>\n",
       "      <td>9372610</td>\n",
       "      <td>36/km²</td>\n",
       "    </tr>\n",
       "    <tr>\n",
       "      <th>3</th>\n",
       "      <td>4</td>\n",
       "      <td>Indonesia</td>\n",
       "      <td>279134505</td>\n",
       "      <td>2.763618e+08</td>\n",
       "      <td>1.00%</td>\n",
       "      <td>1904569</td>\n",
       "      <td>147/km²</td>\n",
       "    </tr>\n",
       "    <tr>\n",
       "      <th>4</th>\n",
       "      <td>5</td>\n",
       "      <td>Pakistan</td>\n",
       "      <td>229488994</td>\n",
       "      <td>2.251999e+08</td>\n",
       "      <td>1.90%</td>\n",
       "      <td>881912</td>\n",
       "      <td>260/km²</td>\n",
       "    </tr>\n",
       "    <tr>\n",
       "      <th>...</th>\n",
       "      <td>...</td>\n",
       "      <td>...</td>\n",
       "      <td>...</td>\n",
       "      <td>...</td>\n",
       "      <td>...</td>\n",
       "      <td>...</td>\n",
       "      <td>...</td>\n",
       "    </tr>\n",
       "    <tr>\n",
       "      <th>204</th>\n",
       "      <td>205</td>\n",
       "      <td>San Marino</td>\n",
       "      <td>34085</td>\n",
       "      <td>3.401700e+04</td>\n",
       "      <td>0.20%</td>\n",
       "      <td>61</td>\n",
       "      <td>559/km²</td>\n",
       "    </tr>\n",
       "    <tr>\n",
       "      <th>205</th>\n",
       "      <td>206</td>\n",
       "      <td>Palau</td>\n",
       "      <td>18233</td>\n",
       "      <td>1.816900e+04</td>\n",
       "      <td>0.35%</td>\n",
       "      <td>459</td>\n",
       "      <td>40/km²</td>\n",
       "    </tr>\n",
       "    <tr>\n",
       "      <th>206</th>\n",
       "      <td>207</td>\n",
       "      <td>Tuvalu</td>\n",
       "      <td>12066</td>\n",
       "      <td>1.193100e+04</td>\n",
       "      <td>1.13%</td>\n",
       "      <td>26</td>\n",
       "      <td>464/km²</td>\n",
       "    </tr>\n",
       "    <tr>\n",
       "      <th>207</th>\n",
       "      <td>208</td>\n",
       "      <td>Nauru</td>\n",
       "      <td>10903</td>\n",
       "      <td>1.087600e+04</td>\n",
       "      <td>0.25%</td>\n",
       "      <td>21</td>\n",
       "      <td>519/km²</td>\n",
       "    </tr>\n",
       "    <tr>\n",
       "      <th>208</th>\n",
       "      <td>209</td>\n",
       "      <td>Vatican City</td>\n",
       "      <td>799</td>\n",
       "      <td>8.000000e+02</td>\n",
       "      <td>-0.12%</td>\n",
       "      <td>1</td>\n",
       "      <td>799/km²</td>\n",
       "    </tr>\n",
       "  </tbody>\n",
       "</table>\n",
       "<p>209 rows × 7 columns</p>\n",
       "</div>"
      ],
      "text/plain": [
       "     Rank        Country  2022 Population  2021 Population Growth Rate  \\\n",
       "0       1          China       1448471400     1.444216e+09       0.29%   \n",
       "1       2          India       1406631776     1.393409e+09       0.95%   \n",
       "2       3  United States        334805269     3.329151e+08       0.57%   \n",
       "3       4      Indonesia        279134505     2.763618e+08       1.00%   \n",
       "4       5       Pakistan        229488994     2.251999e+08       1.90%   \n",
       "..    ...            ...              ...              ...         ...   \n",
       "204   205     San Marino            34085     3.401700e+04       0.20%   \n",
       "205   206          Palau            18233     1.816900e+04       0.35%   \n",
       "206   207         Tuvalu            12066     1.193100e+04       1.13%   \n",
       "207   208          Nauru            10903     1.087600e+04       0.25%   \n",
       "208   209   Vatican City              799     8.000000e+02      -0.12%   \n",
       "\n",
       "        Area Density (km²)  \n",
       "0    9706961       149/km²  \n",
       "1    3287590       428/km²  \n",
       "2    9372610        36/km²  \n",
       "3    1904569       147/km²  \n",
       "4     881912       260/km²  \n",
       "..       ...           ...  \n",
       "204       61       559/km²  \n",
       "205      459        40/km²  \n",
       "206       26       464/km²  \n",
       "207       21       519/km²  \n",
       "208        1       799/km²  \n",
       "\n",
       "[209 rows x 7 columns]"
      ]
     },
     "execution_count": 5,
     "metadata": {},
     "output_type": "execute_result"
    }
   ],
   "source": [
    "df2022"
   ]
  },
  {
   "cell_type": "code",
   "execution_count": 6,
   "id": "3505f539-390f-4b50-a9ab-0b0b03fc8e0b",
   "metadata": {},
   "outputs": [
    {
     "data": {
      "text/plain": [
       "<matplotlib.collections.PathCollection at 0x7fa153c264f0>"
      ]
     },
     "execution_count": 6,
     "metadata": {},
     "output_type": "execute_result"
    },
    {
     "data": {
      "image/png": "[encoded data removed]",
      "text/plain": [
       "<Figure size 432x288 with 1 Axes>"
      ]
     },
     "metadata": {
      "needs_background": "light"
     },
     "output_type": "display_data"
    }
   ],
   "source": [
    "from matplotlib import pyplot as plt\n",
    "fig,ax=plt.subplots()\n",
    "ax.set_ylabel('2022 Population')\n",
    "ax.set_xlabel('Rank')\n",
    "ax.scatter(df2022['2022 Population'], df2022['Area'],  label='Growth Rate')\n"
   ]
  },
  {
   "cell_type": "code",
   "execution_count": 7,
   "id": "6aac0b6c-36fa-4ff3-b763-f1c55fcc1ff5",
   "metadata": {},
   "outputs": [
    {
     "data": {
      "text/plain": [
       "<matplotlib.collections.PathCollection at 0x7fa14bb7f610>"
      ]
     },
     "execution_count": 7,
     "metadata": {},
     "output_type": "execute_result"
    },
    {
     "data": {
      "image/png": "[encoded data removed]",
      "text/plain": [
       "<Figure size 432x288 with 1 Axes>"
      ]
     },
     "metadata": {
      "needs_background": "light"
     },
     "output_type": "display_data"
    }
   ],
   "source": [
    "from matplotlib import pyplot as plt\n",
    "fig,ax=plt.subplots()\n",
    "ax.set_ylabel('2022 Population')\n",
    "ax.set_xlabel('Rank (logaritme)')\n",
    "ax.scatter(df2022['2022 Population'], df2022['Area'],  label='Growth Rate')\n"
   ]
  },
  {
   "cell_type": "code",
   "execution_count": 8,
   "id": "a89898c8-1b12-44ba-8c14-f8eead4e54a4",
   "metadata": {},
   "outputs": [
    {
     "ename": "SyntaxError",
     "evalue": "invalid syntax (3520769379.py, line 1)",
     "output_type": "error",
     "traceback": [
      "\u001b[0;36m  Input \u001b[0;32mIn [8]\u001b[0;36m\u001b[0m\n\u001b[0;31m    grafene viser stigningen i populasjonen i de landene med høyest vekst\u001b[0m\n\u001b[0m            ^\u001b[0m\n\u001b[0;31mSyntaxError\u001b[0m\u001b[0;31m:\u001b[0m invalid syntax\n"
     ]
    }
   ],
   "source": [
    "grafene viser stigningen i populasjonen i de landene med høyest vekst"
   ]
  },
  {
   "cell_type": "code",
   "execution_count": 9,
   "id": "a5c2d43c-5e53-4870-81b2-05e5c03f2034",
   "metadata": {},
   "outputs": [
    {
     "data": {
      "text/html": [
       "<div>\n",
       "<style scoped>\n",
       "    .dataframe tbody tr th:only-of-type {\n",
       "        vertical-align: middle;\n",
       "    }\n",
       "\n",
       "    .dataframe tbody tr th {\n",
       "        vertical-align: top;\n",
       "    }\n",
       "\n",
       "    .dataframe thead th {\n",
       "        text-align: right;\n",
       "    }\n",
       "</style>\n",
       "<table border=\"1\" class=\"dataframe\">\n",
       "  <thead>\n",
       "    <tr style=\"text-align: right;\">\n",
       "      <th></th>\n",
       "      <th>Area</th>\n",
       "    </tr>\n",
       "  </thead>\n",
       "  <tbody>\n",
       "    <tr>\n",
       "      <th>0</th>\n",
       "      <td>9706961</td>\n",
       "    </tr>\n",
       "    <tr>\n",
       "      <th>1</th>\n",
       "      <td>3287590</td>\n",
       "    </tr>\n",
       "    <tr>\n",
       "      <th>2</th>\n",
       "      <td>9372610</td>\n",
       "    </tr>\n",
       "    <tr>\n",
       "      <th>3</th>\n",
       "      <td>1904569</td>\n",
       "    </tr>\n",
       "    <tr>\n",
       "      <th>4</th>\n",
       "      <td>881912</td>\n",
       "    </tr>\n",
       "    <tr>\n",
       "      <th>...</th>\n",
       "      <td>...</td>\n",
       "    </tr>\n",
       "    <tr>\n",
       "      <th>204</th>\n",
       "      <td>61</td>\n",
       "    </tr>\n",
       "    <tr>\n",
       "      <th>205</th>\n",
       "      <td>459</td>\n",
       "    </tr>\n",
       "    <tr>\n",
       "      <th>206</th>\n",
       "      <td>26</td>\n",
       "    </tr>\n",
       "    <tr>\n",
       "      <th>207</th>\n",
       "      <td>21</td>\n",
       "    </tr>\n",
       "    <tr>\n",
       "      <th>208</th>\n",
       "      <td>1</td>\n",
       "    </tr>\n",
       "  </tbody>\n",
       "</table>\n",
       "<p>209 rows × 1 columns</p>\n",
       "</div>"
      ],
      "text/plain": [
       "        Area\n",
       "0    9706961\n",
       "1    3287590\n",
       "2    9372610\n",
       "3    1904569\n",
       "4     881912\n",
       "..       ...\n",
       "204       61\n",
       "205      459\n",
       "206       26\n",
       "207       21\n",
       "208        1\n",
       "\n",
       "[209 rows x 1 columns]"
      ]
     },
     "execution_count": 9,
     "metadata": {},
     "output_type": "execute_result"
    }
   ],
   "source": [
    "y=df2022['Area']\n",
    "pd.DataFrame(y)"
   ]
  },
  {
   "cell_type": "code",
   "execution_count": 10,
   "id": "e7ab30b7-764a-4b11-99c6-3629a572e0db",
   "metadata": {},
   "outputs": [
    {
     "data": {
      "text/html": [
       "<div>\n",
       "<style scoped>\n",
       "    .dataframe tbody tr th:only-of-type {\n",
       "        vertical-align: middle;\n",
       "    }\n",
       "\n",
       "    .dataframe tbody tr th {\n",
       "        vertical-align: top;\n",
       "    }\n",
       "\n",
       "    .dataframe thead th {\n",
       "        text-align: right;\n",
       "    }\n",
       "</style>\n",
       "<table border=\"1\" class=\"dataframe\">\n",
       "  <thead>\n",
       "    <tr style=\"text-align: right;\">\n",
       "      <th></th>\n",
       "      <th>Area</th>\n",
       "      <th>intercept</th>\n",
       "    </tr>\n",
       "  </thead>\n",
       "  <tbody>\n",
       "    <tr>\n",
       "      <th>0</th>\n",
       "      <td>16.088354</td>\n",
       "      <td>1</td>\n",
       "    </tr>\n",
       "    <tr>\n",
       "      <th>1</th>\n",
       "      <td>15.005665</td>\n",
       "      <td>1</td>\n",
       "    </tr>\n",
       "    <tr>\n",
       "      <th>2</th>\n",
       "      <td>16.053302</td>\n",
       "      <td>1</td>\n",
       "    </tr>\n",
       "    <tr>\n",
       "      <th>3</th>\n",
       "      <td>14.459766</td>\n",
       "      <td>1</td>\n",
       "    </tr>\n",
       "    <tr>\n",
       "      <th>4</th>\n",
       "      <td>13.689848</td>\n",
       "      <td>1</td>\n",
       "    </tr>\n",
       "    <tr>\n",
       "      <th>...</th>\n",
       "      <td>...</td>\n",
       "      <td>...</td>\n",
       "    </tr>\n",
       "    <tr>\n",
       "      <th>204</th>\n",
       "      <td>4.110874</td>\n",
       "      <td>1</td>\n",
       "    </tr>\n",
       "    <tr>\n",
       "      <th>205</th>\n",
       "      <td>6.129050</td>\n",
       "      <td>1</td>\n",
       "    </tr>\n",
       "    <tr>\n",
       "      <th>206</th>\n",
       "      <td>3.258097</td>\n",
       "      <td>1</td>\n",
       "    </tr>\n",
       "    <tr>\n",
       "      <th>207</th>\n",
       "      <td>3.044522</td>\n",
       "      <td>1</td>\n",
       "    </tr>\n",
       "    <tr>\n",
       "      <th>208</th>\n",
       "      <td>0.000000</td>\n",
       "      <td>1</td>\n",
       "    </tr>\n",
       "  </tbody>\n",
       "</table>\n",
       "<p>209 rows × 2 columns</p>\n",
       "</div>"
      ],
      "text/plain": [
       "          Area  intercept\n",
       "0    16.088354          1\n",
       "1    15.005665          1\n",
       "2    16.053302          1\n",
       "3    14.459766          1\n",
       "4    13.689848          1\n",
       "..         ...        ...\n",
       "204   4.110874          1\n",
       "205   6.129050          1\n",
       "206   3.258097          1\n",
       "207   3.044522          1\n",
       "208   0.000000          1\n",
       "\n",
       "[209 rows x 2 columns]"
      ]
     },
     "execution_count": 10,
     "metadata": {},
     "output_type": "execute_result"
    }
   ],
   "source": [
    "x=pd.DataFrame(np.log(df2022['Area']))\n",
    "x['intercept']=1\n",
    "x"
   ]
  },
  {
   "cell_type": "markdown",
   "id": "244e99e7-6020-4aa3-bcac-0490f3e51556",
   "metadata": {},
   "source": [
    "Lager en linjær regresjonsmodell og plotter denne med populasjon omgjort til logaritmiske verdier"
   ]
  },
  {
   "cell_type": "code",
   "execution_count": 11,
   "id": "6fb4e96b-11d0-40a8-8ee4-0ad4c56dc2aa",
   "metadata": {},
   "outputs": [
    {
     "name": "stderr",
     "output_type": "stream",
     "text": [
      "/usr/local/Miniconda3-py39_4.10.3-Linux-x86_64/lib/python3.9/site-packages/statsmodels/compat/pandas.py:65: FutureWarning: pandas.Int64Index is deprecated and will be removed from pandas in a future version. Use pandas.Index with the appropriate dtype instead.\n",
      "  from pandas import Int64Index as NumericIndex\n"
     ]
    },
    {
     "name": "stdout",
     "output_type": "stream",
     "text": [
      "                            OLS Regression Results                            \n",
      "==============================================================================\n",
      "Dep. Variable:                   Area   R-squared:                       0.211\n",
      "Model:                            OLS   Adj. R-squared:                  0.207\n",
      "Method:                 Least Squares   F-statistic:                     55.41\n",
      "Date:                Fri, 01 Apr 2022   Prob (F-statistic):           2.59e-12\n",
      "Time:                        11:52:11   Log-Likelihood:                -3287.5\n",
      "No. Observations:                 209   AIC:                             6579.\n",
      "Df Residuals:                     207   BIC:                             6586.\n",
      "Df Model:                           1                                         \n",
      "Covariance Type:            nonrobust                                         \n",
      "==============================================================================\n",
      "                 coef    std err          t      P>|t|      [0.025      0.975]\n",
      "------------------------------------------------------------------------------\n",
      "Area        2.943e+05   3.95e+04      7.443      0.000    2.16e+05    3.72e+05\n",
      "intercept  -2.615e+06   4.54e+05     -5.767      0.000   -3.51e+06   -1.72e+06\n",
      "==============================================================================\n",
      "Omnibus:                      264.371   Durbin-Watson:                   1.690\n",
      "Prob(Omnibus):                  0.000   Jarque-Bera (JB):            13066.226\n",
      "Skew:                           5.439   Prob(JB):                         0.00\n",
      "Kurtosis:                      40.176   Cond. No.                         45.9\n",
      "==============================================================================\n",
      "\n",
      "Notes:\n",
      "[1] Standard Errors assume that the covariance matrix of the errors is correctly specified.\n"
     ]
    }
   ],
   "source": [
    "from statsmodels.regression.linear_model import OLS\n",
    "\n",
    "res=OLS(y,x).fit()\n",
    "\n",
    "print(res.summary())"
   ]
  },
  {
   "cell_type": "code",
   "execution_count": 12,
   "id": "31d342bd-7d01-4628-a280-9ccc749f6f22",
   "metadata": {},
   "outputs": [
    {
     "data": {
      "text/plain": [
       "Area         2.943346e+05\n",
       "intercept   -2.615345e+06\n",
       "dtype: float64"
      ]
     },
     "execution_count": 12,
     "metadata": {},
     "output_type": "execute_result"
    }
   ],
   "source": [
    "res.params"
   ]
  },
  {
   "cell_type": "code",
   "execution_count": 26,
   "id": "bf06a04b-68e7-4fd5-b759-7e2c788d2ff4",
   "metadata": {},
   "outputs": [
    {
     "data": {
      "image/png": "[encoded data removed]",
      "text/plain": [
       "<Figure size 432x288 with 1 Axes>"
      ]
     },
     "execution_count": 26,
     "metadata": {},
     "output_type": "execute_result"
    }
   ],
   "source": [
    "x=np.linspace(min(np.log(df2022['Area'])), max(np.log(df2022['2022 Population'])), 100)\n",
    "\n",
    "regression_line=res.params['intercept']+res.params['Area']*x\n",
    "\n",
    "ax.plot(x, regression_line,color='red')\n",
    "fig"
   ]
  },
  {
   "cell_type": "code",
   "execution_count": null,
   "id": "2ba8b1b5-ff2d-4d4a-8398-b5c40d2c68ba",
   "metadata": {},
   "outputs": [],
   "source": [
    "linjen viser ikke en gjennomsnittelig vekst og passer ikke særlig godt til dataene. regresjonslinjen viser at landene \n",
    "med høyest populasjonsvekst vil forbli de samme i årene som kommer. "
   ]
  }
 ],
 "metadata": {
  "kernelspec": {
   "display_name": "Python 3 (ipykernel)",
   "language": "python",
   "name": "python3"
  },
  "language_info": {
   "codemirror_mode": {
    "name": "ipython",
    "version": 3
   },
   "file_extension": ".py",
   "mimetype": "text/x-python",
   "name": "python",
   "nbconvert_exporter": "python",
   "pygments_lexer": "ipython3",
   "version": "3.9.9"
  }
 },
 "nbformat": 4,
 "nbformat_minor": 5
}
